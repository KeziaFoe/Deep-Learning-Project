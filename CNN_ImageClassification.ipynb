{
  "nbformat": 4,
  "nbformat_minor": 0,
  "metadata": {
    "colab": {
      "provenance": [],
      "gpuType": "T4"
    },
    "kernelspec": {
      "name": "python3",
      "display_name": "Python 3"
    },
    "language_info": {
      "name": "python"
    },
    "accelerator": "GPU"
  },
  "cells": [
    {
      "cell_type": "markdown",
      "source": [
        "CNN"
      ],
      "metadata": {
        "id": "DUaBx00iGJ6t"
      }
    },
    {
      "cell_type": "markdown",
      "source": [
        "#DATASET"
      ],
      "metadata": {
        "id": "g4jWl_qHp1bx"
      }
    },
    {
      "cell_type": "markdown",
      "source": [
        "##Using CIFAR-10"
      ],
      "metadata": {
        "id": "FCkGjDisp4JP"
      }
    },
    {
      "cell_type": "code",
      "execution_count": 1,
      "metadata": {
        "id": "oPofhy8TpTBU"
      },
      "outputs": [],
      "source": [
        "import tensorflow as tf"
      ]
    },
    {
      "cell_type": "code",
      "source": [
        "from tensorflow.keras.datasets import cifar10"
      ],
      "metadata": {
        "id": "_qriU_j0qBEC"
      },
      "execution_count": 2,
      "outputs": []
    },
    {
      "cell_type": "code",
      "source": [
        "from keras.utils import to_categorical"
      ],
      "metadata": {
        "id": "oq255TISrD2g"
      },
      "execution_count": 3,
      "outputs": []
    },
    {
      "cell_type": "markdown",
      "source": [
        "##Prepare training and testing dataset"
      ],
      "metadata": {
        "id": "BfQkz_oOqZpi"
      }
    },
    {
      "cell_type": "code",
      "source": [
        "(x_train, y_train), (x_test, y_test) = cifar10.load_data()"
      ],
      "metadata": {
        "colab": {
          "base_uri": "https://localhost:8080/"
        },
        "id": "RAxmuXXuqEp-",
        "outputId": "cd60eb47-2ead-4377-824e-68a46fb99de9"
      },
      "execution_count": 4,
      "outputs": [
        {
          "output_type": "stream",
          "name": "stdout",
          "text": [
            "Downloading data from https://www.cs.toronto.edu/~kriz/cifar-10-python.tar.gz\n",
            "170498071/170498071 [==============================] - 4s 0us/step\n"
          ]
        }
      ]
    },
    {
      "cell_type": "code",
      "source": [
        "x_train = x_train.astype('float32')\n",
        "x_train = x_train / 255.0\n",
        "x_test = x_test.astype('float32')\n",
        "x_test = x_test / 255.0"
      ],
      "metadata": {
        "id": "OHr6A0CJzIEm"
      },
      "execution_count": null,
      "outputs": []
    },
    {
      "cell_type": "code",
      "source": [
        "y_train = to_categorical(y_train)\n",
        "y_test = to_categorical(y_test)"
      ],
      "metadata": {
        "id": "2jn2XWgyq3iM"
      },
      "execution_count": 5,
      "outputs": []
    },
    {
      "cell_type": "markdown",
      "source": [
        "#Network Architecture"
      ],
      "metadata": {
        "id": "_2BPsKHUsLZU"
      }
    },
    {
      "cell_type": "markdown",
      "source": [
        "## Why use LeNet-5"
      ],
      "metadata": {
        "id": "DWFzL1VLsPWH"
      }
    },
    {
      "cell_type": "markdown",
      "source": [
        "* Simplicity: LeNet-5 has only five layers, making it simple to implement.\n",
        "* Efficiency: LeNet-5 has relatively few parameters so it can be trained quickly.\n",
        "* Robustness to overfitting: LeNet-5 has a relatively small number of parameters and uses simple regularization techniques such as dropout."
      ],
      "metadata": {
        "id": "g-AOpHoTs5-b"
      }
    },
    {
      "cell_type": "markdown",
      "source": [
        "## Key Components of LeNet-5"
      ],
      "metadata": {
        "id": "fUcD7ECTuLDD"
      }
    },
    {
      "cell_type": "markdown",
      "source": [
        "* Convolutional layers: LeNet-5's key building block is its use of convolutional layers. In order for convolutional layers to function, the input image must be filtered. A small matrix of weights serves as the filter. The input image is subjected to the weights element by element, and the outcomes are summed to give a single output value. Every component of the input image is subjected to this process again.\n",
        "* Pooling layers: By combining the values of nearby pixels, pooling layers seek to compress the size of the feature maps. They also assist in strengthening the network's resistance to noise and overfitting.\n",
        "* Fully connected layers: The features extracted from the convolutional layers are combined and predictions are made using fully connected layers. It performs its function by producing a single output vector using the convolutional layer output as its input. The projected probability for every class are contained in the output vector.\n"
      ],
      "metadata": {
        "id": "UjAeuJP4uQ3J"
      }
    },
    {
      "cell_type": "markdown",
      "source": [
        "##LeNet-5 Architecture"
      ],
      "metadata": {
        "id": "Ubr_tubxvulh"
      }
    },
    {
      "cell_type": "markdown",
      "source": [
        "LeNet-5 has five layers:\n",
        "* Two convolutional layers\n",
        "* Two pooling layers\n",
        "* One fully connected layer\n",
        "\n",
        "The first convolutional layer extracts simple features such as edges and corners. The second convolutional layer extracts more complex features such as shapes and objects. The pooling layers reduce the size of the feature maps and make the network more efficient. The fully connected layer combines the features extracted from the convolutional layers and makes predictions."
      ],
      "metadata": {
        "id": "6d_5b3aivyo5"
      }
    },
    {
      "cell_type": "markdown",
      "source": [
        "#Model Implementation"
      ],
      "metadata": {
        "id": "xFppAwZ2wFMy"
      }
    },
    {
      "cell_type": "code",
      "source": [
        "from tensorflow.keras.models import Sequential"
      ],
      "metadata": {
        "id": "A1whrJbzrWGf"
      },
      "execution_count": 6,
      "outputs": []
    },
    {
      "cell_type": "code",
      "source": [
        "from tensorflow.keras.layers import Conv2D, MaxPooling2D, Dense, Flatten"
      ],
      "metadata": {
        "id": "wnNONXX3wyTp"
      },
      "execution_count": 7,
      "outputs": []
    },
    {
      "cell_type": "code",
      "source": [
        "model = Sequential()"
      ],
      "metadata": {
        "id": "3WYYomogw5vt"
      },
      "execution_count": 8,
      "outputs": []
    },
    {
      "cell_type": "code",
      "source": [
        "#First convolutional layers\n",
        "model.add(Conv2D(6, kernel_size=(5,5), activation='relu', input_shape=(32,32,3)))\n",
        "#First Pooling layers\n",
        "model.add(MaxPooling2D(pool_size=(2,2)))\n",
        "#Second convolutional layers\n",
        "model.add(Conv2D(16, kernel_size=(5,5), activation='relu'))\n",
        "#Second pooling layers\n",
        "model.add(MaxPooling2D(pool_size=(2,2)))\n",
        "#Fully connected layers\n",
        "model.add(Flatten())\n",
        "model.add(Dense(120, activation='relu'))\n",
        "model.add(Dense(84, activation='relu'))\n",
        "model.add(Dense(10, activation='softmax'))"
      ],
      "metadata": {
        "id": "nBF5JadmxIxg"
      },
      "execution_count": 9,
      "outputs": []
    },
    {
      "cell_type": "code",
      "source": [
        "model.compile(loss='categorical_crossentropy', optimizer='adam', metrics=['accuracy'])"
      ],
      "metadata": {
        "id": "X98Uwjfuxt8Y"
      },
      "execution_count": 10,
      "outputs": []
    },
    {
      "cell_type": "code",
      "source": [
        "print(model.summary())"
      ],
      "metadata": {
        "colab": {
          "base_uri": "https://localhost:8080/"
        },
        "id": "B9An6NmGy4c5",
        "outputId": "eb2f0069-2a44-4a95-991f-099a52a3461d"
      },
      "execution_count": 12,
      "outputs": [
        {
          "output_type": "stream",
          "name": "stdout",
          "text": [
            "Model: \"sequential\"\n",
            "_________________________________________________________________\n",
            " Layer (type)                Output Shape              Param #   \n",
            "=================================================================\n",
            " conv2d (Conv2D)             (None, 28, 28, 6)         456       \n",
            "                                                                 \n",
            " max_pooling2d (MaxPooling2  (None, 14, 14, 6)         0         \n",
            " D)                                                              \n",
            "                                                                 \n",
            " conv2d_1 (Conv2D)           (None, 10, 10, 16)        2416      \n",
            "                                                                 \n",
            " max_pooling2d_1 (MaxPoolin  (None, 5, 5, 16)          0         \n",
            " g2D)                                                            \n",
            "                                                                 \n",
            " flatten (Flatten)           (None, 400)               0         \n",
            "                                                                 \n",
            " dense (Dense)               (None, 120)               48120     \n",
            "                                                                 \n",
            " dense_1 (Dense)             (None, 84)                10164     \n",
            "                                                                 \n",
            " dense_2 (Dense)             (None, 10)                850       \n",
            "                                                                 \n",
            "=================================================================\n",
            "Total params: 62006 (242.21 KB)\n",
            "Trainable params: 62006 (242.21 KB)\n",
            "Non-trainable params: 0 (0.00 Byte)\n",
            "_________________________________________________________________\n",
            "None\n"
          ]
        }
      ]
    },
    {
      "cell_type": "code",
      "source": [
        "history = model.fit(x_train, y_train, epochs=5, batch_size=64, verbose=1)"
      ],
      "metadata": {
        "colab": {
          "base_uri": "https://localhost:8080/"
        },
        "id": "nLKXBPRHzhdC",
        "outputId": "227af81f-cabd-41d4-eac9-72028fe20ffb"
      },
      "execution_count": 13,
      "outputs": [
        {
          "output_type": "stream",
          "name": "stdout",
          "text": [
            "Epoch 1/5\n",
            "782/782 [==============================] - 14s 5ms/step - loss: 2.2905 - accuracy: 0.2223\n",
            "Epoch 2/5\n",
            "782/782 [==============================] - 3s 4ms/step - loss: 1.7692 - accuracy: 0.3561\n",
            "Epoch 3/5\n",
            "782/782 [==============================] - 4s 5ms/step - loss: 1.6159 - accuracy: 0.4167\n",
            "Epoch 4/5\n",
            "782/782 [==============================] - 3s 4ms/step - loss: 1.5064 - accuracy: 0.4562\n",
            "Epoch 5/5\n",
            "782/782 [==============================] - 3s 4ms/step - loss: 1.4285 - accuracy: 0.4887\n"
          ]
        }
      ]
    },
    {
      "cell_type": "markdown",
      "source": [
        "#Model Evaluation"
      ],
      "metadata": {
        "id": "mW2pNNBi0gl3"
      }
    },
    {
      "cell_type": "code",
      "source": [
        "loss, acc = model.evaluate(x_test, y_test, verbose=1)"
      ],
      "metadata": {
        "colab": {
          "base_uri": "https://localhost:8080/"
        },
        "id": "Mm-IWOgqz1QX",
        "outputId": "849a81a5-6b16-4f17-c7c5-b3c7b5c12ecf"
      },
      "execution_count": 23,
      "outputs": [
        {
          "output_type": "stream",
          "name": "stdout",
          "text": [
            "313/313 [==============================] - 1s 3ms/step - loss: 1.4563 - accuracy: 0.4828\n"
          ]
        }
      ]
    },
    {
      "cell_type": "code",
      "source": [
        "print(\"Accuracy: \", acc)\n",
        "print(\"Loss: \", loss)"
      ],
      "metadata": {
        "colab": {
          "base_uri": "https://localhost:8080/"
        },
        "id": "YoaozjOG2-RG",
        "outputId": "f82f6cb0-9abf-470c-e8bc-207d173c5b00"
      },
      "execution_count": 24,
      "outputs": [
        {
          "output_type": "stream",
          "name": "stdout",
          "text": [
            "Accuracy:  0.4828000068664551\n",
            "Loss:  1.4562979936599731\n"
          ]
        }
      ]
    },
    {
      "cell_type": "code",
      "source": [
        "accuracy = [acc]"
      ],
      "metadata": {
        "id": "0luEzC5J2ReT"
      },
      "execution_count": 20,
      "outputs": []
    },
    {
      "cell_type": "code",
      "source": [
        "import matplotlib.pyplot as plt"
      ],
      "metadata": {
        "id": "iZY0cmTN0PWm"
      },
      "execution_count": 15,
      "outputs": []
    },
    {
      "cell_type": "code",
      "source": [
        "plt.subplot(121)\n",
        "plt.title('Accuracy')\n",
        "plt.xlabel('Epochs')\n",
        "plt.ylabel('Accuracy')\n",
        "plt.plot(history.history['accuracy'], color='green')\n",
        "plt.plot(accuracy)\n",
        "plt.subplot(122)\n",
        "plt.title('Loss')\n",
        "plt.xlabel('Epochs')\n",
        "plt.ylabel('Loss')\n",
        "plt.plot(history.history['loss'], color='red')\n",
        "plt.show()"
      ],
      "metadata": {
        "colab": {
          "base_uri": "https://localhost:8080/",
          "height": 472
        },
        "id": "dxx3EsY-03wa",
        "outputId": "f0be821b-ea6d-4312-d7ee-08b975199d71"
      },
      "execution_count": 22,
      "outputs": [
        {
          "output_type": "display_data",
          "data": {
            "text/plain": [
              "<Figure size 640x480 with 2 Axes>"
            ],
            "image/png": "[encoded data removed]"
          },
          "metadata": {}
        }
      ]
    },
    {
      "cell_type": "markdown",
      "source": [
        "#Model Improvement\n",
        "Using hyperparameters, regularization techniques, and data augmentation"
      ],
      "metadata": {
        "id": "Y9oOtiim39R8"
      }
    },
    {
      "cell_type": "code",
      "source": [
        "import tensorflow as tf\n",
        "from tensorflow.keras.datasets import cifar10\n",
        "from keras.utils import to_categorical\n",
        "(x_train, y_train), (x_test, y_test) = cifar10.load_data()\n",
        "x_train = x_train.astype('float32')\n",
        "x_train = x_train / 255.0\n",
        "x_test = x_test.astype('float32')\n",
        "x_test = x_test / 255.0\n",
        "y_train = to_categorical(y_train)\n",
        "y_test = to_categorical(y_test)"
      ],
      "metadata": {
        "id": "sTKgKWFv1oqo"
      },
      "execution_count": 46,
      "outputs": []
    },
    {
      "cell_type": "code",
      "source": [
        "from tensorflow.keras.models import Sequential\n",
        "from tensorflow.keras.layers import Conv2D, MaxPooling2D, Dense, Flatten, Dropout\n",
        "model = Sequential()\n",
        "model.add(Conv2D(6, kernel_size=(5,5), activation='relu', input_shape=(32,32,3)))\n",
        "model.add(MaxPooling2D(pool_size=(2,2)))\n",
        "model.add(Dropout(0.5))\n",
        "model.add(Conv2D(16, kernel_size=(5,5), activation='relu'))\n",
        "model.add(MaxPooling2D(pool_size=(2,2)))\n",
        "model.add(Dropout(0.5))\n",
        "model.add(Flatten())\n",
        "model.add(Dense(120, activation='relu'))\n",
        "model.add(Dense(84, activation='relu'))\n",
        "model.add(Dropout(0.5))\n",
        "model.add(Dense(10, activation='softmax'))"
      ],
      "metadata": {
        "id": "yJJkpOgl5SPR"
      },
      "execution_count": 47,
      "outputs": []
    },
    {
      "cell_type": "code",
      "source": [
        "model.compile(loss='categorical_crossentropy', optimizer=tf.keras.optimizers.Adam(learning_rate=0.001), metrics=['accuracy'])\n",
        "print(model.summary())"
      ],
      "metadata": {
        "colab": {
          "base_uri": "https://localhost:8080/"
        },
        "id": "u96zcMWy5nUq",
        "outputId": "2aca8b93-8db0-408c-a9d9-453f2177ccfb"
      },
      "execution_count": 48,
      "outputs": [
        {
          "output_type": "stream",
          "name": "stdout",
          "text": [
            "Model: \"sequential_4\"\n",
            "_________________________________________________________________\n",
            " Layer (type)                Output Shape              Param #   \n",
            "=================================================================\n",
            " conv2d_8 (Conv2D)           (None, 28, 28, 6)         456       \n",
            "                                                                 \n",
            " max_pooling2d_8 (MaxPoolin  (None, 14, 14, 6)         0         \n",
            " g2D)                                                            \n",
            "                                                                 \n",
            " dropout_9 (Dropout)         (None, 14, 14, 6)         0         \n",
            "                                                                 \n",
            " conv2d_9 (Conv2D)           (None, 10, 10, 16)        2416      \n",
            "                                                                 \n",
            " max_pooling2d_9 (MaxPoolin  (None, 5, 5, 16)          0         \n",
            " g2D)                                                            \n",
            "                                                                 \n",
            " dropout_10 (Dropout)        (None, 5, 5, 16)          0         \n",
            "                                                                 \n",
            " flatten_4 (Flatten)         (None, 400)               0         \n",
            "                                                                 \n",
            " dense_12 (Dense)            (None, 120)               48120     \n",
            "                                                                 \n",
            " dense_13 (Dense)            (None, 84)                10164     \n",
            "                                                                 \n",
            " dropout_11 (Dropout)        (None, 84)                0         \n",
            "                                                                 \n",
            " dense_14 (Dense)            (None, 10)                850       \n",
            "                                                                 \n",
            "=================================================================\n",
            "Total params: 62006 (242.21 KB)\n",
            "Trainable params: 62006 (242.21 KB)\n",
            "Non-trainable params: 0 (0.00 Byte)\n",
            "_________________________________________________________________\n",
            "None\n"
          ]
        }
      ]
    },
    {
      "cell_type": "code",
      "source": [
        "history = model.fit(x_train, y_train, epochs=5, batch_size=64, verbose=1)"
      ],
      "metadata": {
        "colab": {
          "base_uri": "https://localhost:8080/"
        },
        "id": "spkVJNBL5peV",
        "outputId": "1049f0b5-ee3c-43fb-a941-5cc0b32cdc39"
      },
      "execution_count": 49,
      "outputs": [
        {
          "output_type": "stream",
          "name": "stdout",
          "text": [
            "Epoch 1/5\n",
            "782/782 [==============================] - 6s 6ms/step - loss: 1.9998 - accuracy: 0.2435\n",
            "Epoch 2/5\n",
            "782/782 [==============================] - 4s 5ms/step - loss: 1.7388 - accuracy: 0.3607\n",
            "Epoch 3/5\n",
            "782/782 [==============================] - 4s 5ms/step - loss: 1.6516 - accuracy: 0.3974\n",
            "Epoch 4/5\n",
            "782/782 [==============================] - 4s 6ms/step - loss: 1.6095 - accuracy: 0.4185\n",
            "Epoch 5/5\n",
            "782/782 [==============================] - 4s 5ms/step - loss: 1.5696 - accuracy: 0.4331\n"
          ]
        }
      ]
    },
    {
      "cell_type": "code",
      "source": [
        "loss, acc = model.evaluate(x_test, y_test, verbose=1)"
      ],
      "metadata": {
        "colab": {
          "base_uri": "https://localhost:8080/"
        },
        "id": "G3wpoUA25tIK",
        "outputId": "83d05fb4-ada1-4a87-ebba-fbfe6cbaea25"
      },
      "execution_count": 50,
      "outputs": [
        {
          "output_type": "stream",
          "name": "stdout",
          "text": [
            "313/313 [==============================] - 1s 3ms/step - loss: 1.4746 - accuracy: 0.4906\n"
          ]
        }
      ]
    },
    {
      "cell_type": "code",
      "source": [
        "print(\"Accuracy: \", acc)\n",
        "print(\"Loss: \", loss)"
      ],
      "metadata": {
        "colab": {
          "base_uri": "https://localhost:8080/"
        },
        "id": "nTXsPR3O5tbX",
        "outputId": "9e244378-2909-4dbb-822b-c7fb127ac83e"
      },
      "execution_count": 51,
      "outputs": [
        {
          "output_type": "stream",
          "name": "stdout",
          "text": [
            "Accuracy:  0.49059998989105225\n",
            "Loss:  1.4746074676513672\n"
          ]
        }
      ]
    },
    {
      "cell_type": "markdown",
      "source": [
        "Model 2's increased complexity over Model 1 could be one cause for this. Higher accuracy may result from the ability of more complicated models to learn more intricate patterns in the data. But more intricate models also have a higher chance of overfitting the training set. When a model learns the training data too well and is unable to generalise to new data, this is known as overfitting.\n",
        "\n",
        "Model 2 being trained on a lesser dataset than Model 1 is another rationale that might apply. Greater loss and greater volatility in the model's performance can result from smaller datasets.\n",
        "\n",
        "However, Model 2 is likely to be the better model, even though it has a higher loss."
      ],
      "metadata": {
        "id": "RDHpJSRh9MCv"
      }
    },
    {
      "cell_type": "markdown",
      "source": [
        "##If we increase the epochs = 50 in model 2"
      ],
      "metadata": {
        "id": "2RCmvRb4_ASH"
      }
    },
    {
      "cell_type": "code",
      "source": [
        "import tensorflow as tf\n",
        "from tensorflow.keras.datasets import cifar10\n",
        "from keras.utils import to_categorical\n",
        "(x_train, y_train), (x_test, y_test) = cifar10.load_data()\n",
        "x_train = x_train.astype('float32')\n",
        "x_train = x_train / 255.0\n",
        "x_test = x_test.astype('float32')\n",
        "x_test = x_test / 255.0\n",
        "y_train = to_categorical(y_train)\n",
        "y_test = to_categorical(y_test)"
      ],
      "metadata": {
        "id": "CJ782-VK-973"
      },
      "execution_count": 59,
      "outputs": []
    },
    {
      "cell_type": "code",
      "source": [
        "from tensorflow.keras.models import Sequential\n",
        "from tensorflow.keras.layers import Conv2D, MaxPooling2D, Dense, Flatten, Dropout\n",
        "model = Sequential()\n",
        "model.add(Conv2D(6, kernel_size=(5,5), activation='relu', input_shape=(32,32,3)))\n",
        "model.add(MaxPooling2D(pool_size=(2,2)))\n",
        "model.add(Dropout(0.5))\n",
        "model.add(Conv2D(16, kernel_size=(5,5), activation='relu'))\n",
        "model.add(MaxPooling2D(pool_size=(2,2)))\n",
        "model.add(Dropout(0.5))\n",
        "model.add(Flatten())\n",
        "model.add(Dense(120, activation='relu'))\n",
        "model.add(Dense(84, activation='relu'))\n",
        "model.add(Dropout(0.5))\n",
        "model.add(Dense(10, activation='softmax'))"
      ],
      "metadata": {
        "id": "Gq8UfWT_-XMx"
      },
      "execution_count": 60,
      "outputs": []
    },
    {
      "cell_type": "code",
      "source": [
        "model.compile(loss='categorical_crossentropy', optimizer=tf.keras.optimizers.Adam(learning_rate=0.001), metrics=['accuracy'])\n",
        "print(model.summary())"
      ],
      "metadata": {
        "colab": {
          "base_uri": "https://localhost:8080/"
        },
        "id": "_r3bVbo__IV2",
        "outputId": "88e65ecb-e625-45a4-c14f-169e695edd6e"
      },
      "execution_count": 61,
      "outputs": [
        {
          "output_type": "stream",
          "name": "stdout",
          "text": [
            "Model: \"sequential_7\"\n",
            "_________________________________________________________________\n",
            " Layer (type)                Output Shape              Param #   \n",
            "=================================================================\n",
            " conv2d_14 (Conv2D)          (None, 28, 28, 6)         456       \n",
            "                                                                 \n",
            " max_pooling2d_14 (MaxPooli  (None, 14, 14, 6)         0         \n",
            " ng2D)                                                           \n",
            "                                                                 \n",
            " dropout_18 (Dropout)        (None, 14, 14, 6)         0         \n",
            "                                                                 \n",
            " conv2d_15 (Conv2D)          (None, 10, 10, 16)        2416      \n",
            "                                                                 \n",
            " max_pooling2d_15 (MaxPooli  (None, 5, 5, 16)          0         \n",
            " ng2D)                                                           \n",
            "                                                                 \n",
            " dropout_19 (Dropout)        (None, 5, 5, 16)          0         \n",
            "                                                                 \n",
            " flatten_7 (Flatten)         (None, 400)               0         \n",
            "                                                                 \n",
            " dense_21 (Dense)            (None, 120)               48120     \n",
            "                                                                 \n",
            " dense_22 (Dense)            (None, 84)                10164     \n",
            "                                                                 \n",
            " dropout_20 (Dropout)        (None, 84)                0         \n",
            "                                                                 \n",
            " dense_23 (Dense)            (None, 10)                850       \n",
            "                                                                 \n",
            "=================================================================\n",
            "Total params: 62006 (242.21 KB)\n",
            "Trainable params: 62006 (242.21 KB)\n",
            "Non-trainable params: 0 (0.00 Byte)\n",
            "_________________________________________________________________\n",
            "None\n"
          ]
        }
      ]
    },
    {
      "cell_type": "code",
      "source": [
        "history = model.fit(x_train, y_train, epochs=50, batch_size=64, verbose=1)"
      ],
      "metadata": {
        "colab": {
          "base_uri": "https://localhost:8080/"
        },
        "id": "xpfFeuDK_KZb",
        "outputId": "e13660f8-7c27-4cf3-e3c1-108e56e2f60f"
      },
      "execution_count": 63,
      "outputs": [
        {
          "output_type": "stream",
          "name": "stdout",
          "text": [
            "Epoch 1/50\n",
            "782/782 [==============================] - 6s 6ms/step - loss: 1.9679 - accuracy: 0.2561\n",
            "Epoch 2/50\n",
            "782/782 [==============================] - 4s 5ms/step - loss: 1.7019 - accuracy: 0.3738\n",
            "Epoch 3/50\n",
            "782/782 [==============================] - 5s 6ms/step - loss: 1.6335 - accuracy: 0.4047\n",
            "Epoch 4/50\n",
            "782/782 [==============================] - 4s 5ms/step - loss: 1.5936 - accuracy: 0.4203\n",
            "Epoch 5/50\n",
            "782/782 [==============================] - 4s 5ms/step - loss: 1.5703 - accuracy: 0.4302\n",
            "Epoch 6/50\n",
            "782/782 [==============================] - 4s 6ms/step - loss: 1.5524 - accuracy: 0.4365\n",
            "Epoch 7/50\n",
            "782/782 [==============================] - 4s 5ms/step - loss: 1.5327 - accuracy: 0.4488\n",
            "Epoch 8/50\n",
            "782/782 [==============================] - 4s 5ms/step - loss: 1.5141 - accuracy: 0.4534\n",
            "Epoch 9/50\n",
            "782/782 [==============================] - 4s 6ms/step - loss: 1.5082 - accuracy: 0.4549\n",
            "Epoch 10/50\n",
            "782/782 [==============================] - 4s 5ms/step - loss: 1.4958 - accuracy: 0.4583\n",
            "Epoch 11/50\n",
            "782/782 [==============================] - 4s 5ms/step - loss: 1.4849 - accuracy: 0.4673\n",
            "Epoch 12/50\n",
            "782/782 [==============================] - 4s 6ms/step - loss: 1.4698 - accuracy: 0.4724\n",
            "Epoch 13/50\n",
            "782/782 [==============================] - 4s 5ms/step - loss: 1.4585 - accuracy: 0.4762\n",
            "Epoch 14/50\n",
            "782/782 [==============================] - 4s 5ms/step - loss: 1.4558 - accuracy: 0.4791\n",
            "Epoch 15/50\n",
            "782/782 [==============================] - 4s 6ms/step - loss: 1.4510 - accuracy: 0.4772\n",
            "Epoch 16/50\n",
            "782/782 [==============================] - 4s 5ms/step - loss: 1.4374 - accuracy: 0.4862\n",
            "Epoch 17/50\n",
            "782/782 [==============================] - 4s 5ms/step - loss: 1.4333 - accuracy: 0.4877\n",
            "Epoch 18/50\n",
            "782/782 [==============================] - 4s 6ms/step - loss: 1.4293 - accuracy: 0.4866\n",
            "Epoch 19/50\n",
            "782/782 [==============================] - 4s 5ms/step - loss: 1.4209 - accuracy: 0.4941\n",
            "Epoch 20/50\n",
            "782/782 [==============================] - 4s 5ms/step - loss: 1.4067 - accuracy: 0.4972\n",
            "Epoch 21/50\n",
            "782/782 [==============================] - 4s 6ms/step - loss: 1.4088 - accuracy: 0.4997\n",
            "Epoch 22/50\n",
            "782/782 [==============================] - 4s 5ms/step - loss: 1.4010 - accuracy: 0.4990\n",
            "Epoch 23/50\n",
            "782/782 [==============================] - 4s 5ms/step - loss: 1.3982 - accuracy: 0.5015\n",
            "Epoch 24/50\n",
            "782/782 [==============================] - 4s 6ms/step - loss: 1.3886 - accuracy: 0.5045\n",
            "Epoch 25/50\n",
            "782/782 [==============================] - 4s 5ms/step - loss: 1.3867 - accuracy: 0.5054\n",
            "Epoch 26/50\n",
            "782/782 [==============================] - 5s 6ms/step - loss: 1.3784 - accuracy: 0.5094\n",
            "Epoch 27/50\n",
            "782/782 [==============================] - 5s 6ms/step - loss: 1.3760 - accuracy: 0.5098\n",
            "Epoch 28/50\n",
            "782/782 [==============================] - 4s 5ms/step - loss: 1.3743 - accuracy: 0.5105\n",
            "Epoch 29/50\n",
            "782/782 [==============================] - 4s 5ms/step - loss: 1.3661 - accuracy: 0.5138\n",
            "Epoch 30/50\n",
            "782/782 [==============================] - 4s 6ms/step - loss: 1.3672 - accuracy: 0.5150\n",
            "Epoch 31/50\n",
            "782/782 [==============================] - 4s 5ms/step - loss: 1.3623 - accuracy: 0.5164\n",
            "Epoch 32/50\n",
            "782/782 [==============================] - 4s 5ms/step - loss: 1.3558 - accuracy: 0.5169\n",
            "Epoch 33/50\n",
            "782/782 [==============================] - 5s 6ms/step - loss: 1.3598 - accuracy: 0.5173\n",
            "Epoch 34/50\n",
            "782/782 [==============================] - 4s 5ms/step - loss: 1.3514 - accuracy: 0.5194\n",
            "Epoch 35/50\n",
            "782/782 [==============================] - 4s 5ms/step - loss: 1.3484 - accuracy: 0.5211\n",
            "Epoch 36/50\n",
            "782/782 [==============================] - 4s 5ms/step - loss: 1.3404 - accuracy: 0.5257\n",
            "Epoch 37/50\n",
            "782/782 [==============================] - 4s 5ms/step - loss: 1.3387 - accuracy: 0.5244\n",
            "Epoch 38/50\n",
            "782/782 [==============================] - 4s 5ms/step - loss: 1.3390 - accuracy: 0.5292\n",
            "Epoch 39/50\n",
            "782/782 [==============================] - 4s 5ms/step - loss: 1.3356 - accuracy: 0.5294\n",
            "Epoch 40/50\n",
            "782/782 [==============================] - 4s 5ms/step - loss: 1.3286 - accuracy: 0.5326\n",
            "Epoch 41/50\n",
            "782/782 [==============================] - 4s 5ms/step - loss: 1.3264 - accuracy: 0.5324\n",
            "Epoch 42/50\n",
            "782/782 [==============================] - 4s 5ms/step - loss: 1.3252 - accuracy: 0.5318\n",
            "Epoch 43/50\n",
            "782/782 [==============================] - 4s 5ms/step - loss: 1.3233 - accuracy: 0.5319\n",
            "Epoch 44/50\n",
            "782/782 [==============================] - 4s 5ms/step - loss: 1.3235 - accuracy: 0.5323\n",
            "Epoch 45/50\n",
            "782/782 [==============================] - 4s 5ms/step - loss: 1.3109 - accuracy: 0.5390\n",
            "Epoch 46/50\n",
            "782/782 [==============================] - 4s 6ms/step - loss: 1.3120 - accuracy: 0.5386\n",
            "Epoch 47/50\n",
            "782/782 [==============================] - 4s 5ms/step - loss: 1.3071 - accuracy: 0.5392\n",
            "Epoch 48/50\n",
            "782/782 [==============================] - 4s 5ms/step - loss: 1.3117 - accuracy: 0.5369\n",
            "Epoch 49/50\n",
            "782/782 [==============================] - 5s 6ms/step - loss: 1.3090 - accuracy: 0.5415\n",
            "Epoch 50/50\n",
            "782/782 [==============================] - 4s 5ms/step - loss: 1.3011 - accuracy: 0.5419\n"
          ]
        }
      ]
    },
    {
      "cell_type": "code",
      "source": [
        "loss, acc = model.evaluate(x_test, y_test, verbose=1)"
      ],
      "metadata": {
        "colab": {
          "base_uri": "https://localhost:8080/"
        },
        "id": "r2fZd0j5_MZz",
        "outputId": "3de32925-5988-40e8-bc69-7e8ae3542cd2"
      },
      "execution_count": 64,
      "outputs": [
        {
          "output_type": "stream",
          "name": "stdout",
          "text": [
            "313/313 [==============================] - 1s 3ms/step - loss: 1.1754 - accuracy: 0.5857\n"
          ]
        }
      ]
    },
    {
      "cell_type": "code",
      "source": [
        "print(\"Accuracy: \", acc)\n",
        "print(\"Loss: \", loss)"
      ],
      "metadata": {
        "colab": {
          "base_uri": "https://localhost:8080/"
        },
        "id": "uuh3kESJ_PvE",
        "outputId": "13003565-d633-4d92-ce47-4f73cd0101be"
      },
      "execution_count": 65,
      "outputs": [
        {
          "output_type": "stream",
          "name": "stdout",
          "text": [
            "Accuracy:  0.5856999754905701\n",
            "Loss:  1.1753597259521484\n"
          ]
        }
      ]
    },
    {
      "cell_type": "markdown",
      "source": [
        "##If using data augmentation"
      ],
      "metadata": {
        "id": "PvjquNb1AsGL"
      }
    },
    {
      "cell_type": "code",
      "source": [
        "from keras.preprocessing.image import ImageDataGenerator"
      ],
      "metadata": {
        "id": "W8uK7SPC_RWH"
      },
      "execution_count": 66,
      "outputs": []
    },
    {
      "cell_type": "code",
      "source": [
        "import tensorflow as tf\n",
        "from tensorflow.keras.datasets import cifar10\n",
        "from keras.utils import to_categorical\n",
        "(x_train, y_train), (x_test, y_test) = cifar10.load_data()\n",
        "x_train = x_train.astype('float32')\n",
        "x_train = x_train / 255.0\n",
        "x_test = x_test.astype('float32')\n",
        "x_test = x_test / 255.0\n",
        "y_train = to_categorical(y_train)\n",
        "y_test = to_categorical(y_test)"
      ],
      "metadata": {
        "id": "bgKBbELMA7IC"
      },
      "execution_count": 67,
      "outputs": []
    },
    {
      "cell_type": "code",
      "source": [
        "from tensorflow.keras.models import Sequential\n",
        "from tensorflow.keras.layers import Conv2D, MaxPooling2D, Dense, Flatten, Dropout\n",
        "model = Sequential()\n",
        "model.add(Conv2D(6, kernel_size=(5,5), activation='relu', input_shape=(32,32,3)))\n",
        "model.add(MaxPooling2D(pool_size=(2,2)))\n",
        "model.add(Dropout(0.5))\n",
        "model.add(Conv2D(16, kernel_size=(5,5), activation='relu'))\n",
        "model.add(MaxPooling2D(pool_size=(2,2)))\n",
        "model.add(Dropout(0.5))\n",
        "model.add(Flatten())\n",
        "model.add(Dense(120, activation='relu'))\n",
        "model.add(Dense(84, activation='relu'))\n",
        "model.add(Dropout(0.5))\n",
        "model.add(Dense(10, activation='softmax'))"
      ],
      "metadata": {
        "id": "QDRkQ97EBA-U"
      },
      "execution_count": 68,
      "outputs": []
    },
    {
      "cell_type": "code",
      "source": [
        "model.compile(loss='categorical_crossentropy', optimizer=tf.keras.optimizers.Adam(learning_rate=0.001), metrics=['accuracy'])\n",
        "print(model.summary())"
      ],
      "metadata": {
        "colab": {
          "base_uri": "https://localhost:8080/"
        },
        "id": "TUUgkJ2nBJe7",
        "outputId": "3fa8e4a6-02e7-406e-9e3f-af5908d9ddd9"
      },
      "execution_count": 69,
      "outputs": [
        {
          "output_type": "stream",
          "name": "stdout",
          "text": [
            "Model: \"sequential_8\"\n",
            "_________________________________________________________________\n",
            " Layer (type)                Output Shape              Param #   \n",
            "=================================================================\n",
            " conv2d_16 (Conv2D)          (None, 28, 28, 6)         456       \n",
            "                                                                 \n",
            " max_pooling2d_16 (MaxPooli  (None, 14, 14, 6)         0         \n",
            " ng2D)                                                           \n",
            "                                                                 \n",
            " dropout_21 (Dropout)        (None, 14, 14, 6)         0         \n",
            "                                                                 \n",
            " conv2d_17 (Conv2D)          (None, 10, 10, 16)        2416      \n",
            "                                                                 \n",
            " max_pooling2d_17 (MaxPooli  (None, 5, 5, 16)          0         \n",
            " ng2D)                                                           \n",
            "                                                                 \n",
            " dropout_22 (Dropout)        (None, 5, 5, 16)          0         \n",
            "                                                                 \n",
            " flatten_8 (Flatten)         (None, 400)               0         \n",
            "                                                                 \n",
            " dense_24 (Dense)            (None, 120)               48120     \n",
            "                                                                 \n",
            " dense_25 (Dense)            (None, 84)                10164     \n",
            "                                                                 \n",
            " dropout_23 (Dropout)        (None, 84)                0         \n",
            "                                                                 \n",
            " dense_26 (Dense)            (None, 10)                850       \n",
            "                                                                 \n",
            "=================================================================\n",
            "Total params: 62006 (242.21 KB)\n",
            "Trainable params: 62006 (242.21 KB)\n",
            "Non-trainable params: 0 (0.00 Byte)\n",
            "_________________________________________________________________\n",
            "None\n"
          ]
        }
      ]
    },
    {
      "cell_type": "code",
      "source": [
        "from tensorflow.python.ops.gen_batch_ops import batch\n",
        "#Create data generator\n",
        "datagen = ImageDataGenerator(width_shift_range=0.1, height_shift_range=0.1, horizontal_flip=True)\n",
        "it_train = datagen.flow(x_train, y_train, batch_size=64)"
      ],
      "metadata": {
        "id": "s9d-LDtUBVcr"
      },
      "execution_count": 70,
      "outputs": []
    },
    {
      "cell_type": "code",
      "source": [
        "#Fit model\n",
        "steps = int(x_train.shape[0]/64)\n",
        "history = model.fit_generator(it_train, steps_per_epoch=steps, epochs=50, verbose=1)"
      ],
      "metadata": {
        "colab": {
          "base_uri": "https://localhost:8080/"
        },
        "id": "Ik3HKxFoBthU",
        "outputId": "5bb56c75-2982-433c-f4e3-df6fd3dfd8c7"
      },
      "execution_count": 71,
      "outputs": [
        {
          "output_type": "stream",
          "name": "stdout",
          "text": [
            "Epoch 1/50\n"
          ]
        },
        {
          "output_type": "stream",
          "name": "stderr",
          "text": [
            "<ipython-input-71-610c631f27d3>:3: UserWarning: `Model.fit_generator` is deprecated and will be removed in a future version. Please use `Model.fit`, which supports generators.\n",
            "  history = model.fit_generator(it_train, steps_per_epoch=steps, epochs=50, verbose=1)\n"
          ]
        },
        {
          "output_type": "stream",
          "name": "stdout",
          "text": [
            "781/781 [==============================] - 43s 52ms/step - loss: 2.0988 - accuracy: 0.2077\n",
            "Epoch 2/50\n",
            "781/781 [==============================] - 33s 42ms/step - loss: 1.7904 - accuracy: 0.3291\n",
            "Epoch 3/50\n",
            "781/781 [==============================] - 32s 40ms/step - loss: 1.7247 - accuracy: 0.3576\n",
            "Epoch 4/50\n",
            "781/781 [==============================] - 33s 42ms/step - loss: 1.6934 - accuracy: 0.3735\n",
            "Epoch 5/50\n",
            "781/781 [==============================] - 31s 40ms/step - loss: 1.6688 - accuracy: 0.3818\n",
            "Epoch 6/50\n",
            "781/781 [==============================] - 30s 39ms/step - loss: 1.6541 - accuracy: 0.3898\n",
            "Epoch 7/50\n",
            "781/781 [==============================] - 30s 38ms/step - loss: 1.6396 - accuracy: 0.3983\n",
            "Epoch 8/50\n",
            "781/781 [==============================] - 30s 39ms/step - loss: 1.6296 - accuracy: 0.3997\n",
            "Epoch 9/50\n",
            "781/781 [==============================] - 29s 37ms/step - loss: 1.6133 - accuracy: 0.4087\n",
            "Epoch 10/50\n",
            "781/781 [==============================] - 30s 38ms/step - loss: 1.6069 - accuracy: 0.4126\n",
            "Epoch 11/50\n",
            "781/781 [==============================] - 31s 40ms/step - loss: 1.5991 - accuracy: 0.4148\n",
            "Epoch 12/50\n",
            "781/781 [==============================] - 30s 38ms/step - loss: 1.5888 - accuracy: 0.4206\n",
            "Epoch 13/50\n",
            "781/781 [==============================] - 29s 37ms/step - loss: 1.5816 - accuracy: 0.4241\n",
            "Epoch 14/50\n",
            "781/781 [==============================] - 29s 37ms/step - loss: 1.5759 - accuracy: 0.4263\n",
            "Epoch 15/50\n",
            "781/781 [==============================] - 30s 38ms/step - loss: 1.5706 - accuracy: 0.4326\n",
            "Epoch 16/50\n",
            "781/781 [==============================] - 29s 37ms/step - loss: 1.5623 - accuracy: 0.4350\n",
            "Epoch 17/50\n",
            "781/781 [==============================] - 31s 39ms/step - loss: 1.5594 - accuracy: 0.4339\n",
            "Epoch 18/50\n",
            "781/781 [==============================] - 31s 39ms/step - loss: 1.5530 - accuracy: 0.4358\n",
            "Epoch 19/50\n",
            "781/781 [==============================] - 29s 37ms/step - loss: 1.5522 - accuracy: 0.4404\n",
            "Epoch 20/50\n",
            "781/781 [==============================] - 29s 38ms/step - loss: 1.5519 - accuracy: 0.4382\n",
            "Epoch 21/50\n",
            "781/781 [==============================] - 31s 39ms/step - loss: 1.5423 - accuracy: 0.4440\n",
            "Epoch 22/50\n",
            "781/781 [==============================] - 29s 38ms/step - loss: 1.5438 - accuracy: 0.4389\n",
            "Epoch 23/50\n",
            "781/781 [==============================] - 29s 37ms/step - loss: 1.5327 - accuracy: 0.4460\n",
            "Epoch 24/50\n",
            "781/781 [==============================] - 30s 38ms/step - loss: 1.5324 - accuracy: 0.4454\n",
            "Epoch 25/50\n",
            "781/781 [==============================] - 30s 38ms/step - loss: 1.5305 - accuracy: 0.4497\n",
            "Epoch 26/50\n",
            "781/781 [==============================] - 31s 39ms/step - loss: 1.5251 - accuracy: 0.4478\n",
            "Epoch 27/50\n",
            "781/781 [==============================] - 33s 42ms/step - loss: 1.5249 - accuracy: 0.4474\n",
            "Epoch 28/50\n",
            "781/781 [==============================] - 30s 38ms/step - loss: 1.5186 - accuracy: 0.4527\n",
            "Epoch 29/50\n",
            "781/781 [==============================] - 30s 39ms/step - loss: 1.5194 - accuracy: 0.4553\n",
            "Epoch 30/50\n",
            "781/781 [==============================] - 33s 43ms/step - loss: 1.5076 - accuracy: 0.4607\n",
            "Epoch 31/50\n",
            "781/781 [==============================] - 30s 38ms/step - loss: 1.5129 - accuracy: 0.4574\n",
            "Epoch 32/50\n",
            "781/781 [==============================] - 30s 38ms/step - loss: 1.5022 - accuracy: 0.4573\n",
            "Epoch 33/50\n",
            "781/781 [==============================] - 31s 39ms/step - loss: 1.5054 - accuracy: 0.4566\n",
            "Epoch 34/50\n",
            "781/781 [==============================] - 29s 38ms/step - loss: 1.4965 - accuracy: 0.4630\n",
            "Epoch 35/50\n",
            "781/781 [==============================] - 30s 39ms/step - loss: 1.5049 - accuracy: 0.4589\n",
            "Epoch 36/50\n",
            "781/781 [==============================] - 29s 38ms/step - loss: 1.4962 - accuracy: 0.4643\n",
            "Epoch 37/50\n",
            "781/781 [==============================] - 30s 38ms/step - loss: 1.4991 - accuracy: 0.4614\n",
            "Epoch 38/50\n",
            "781/781 [==============================] - 32s 41ms/step - loss: 1.4933 - accuracy: 0.4637\n",
            "Epoch 39/50\n",
            "781/781 [==============================] - 30s 38ms/step - loss: 1.4966 - accuracy: 0.4626\n",
            "Epoch 40/50\n",
            "781/781 [==============================] - 30s 39ms/step - loss: 1.4864 - accuracy: 0.4682\n",
            "Epoch 41/50\n",
            "781/781 [==============================] - 31s 39ms/step - loss: 1.4863 - accuracy: 0.4661\n",
            "Epoch 42/50\n",
            "781/781 [==============================] - 30s 38ms/step - loss: 1.4868 - accuracy: 0.4676\n",
            "Epoch 43/50\n",
            "781/781 [==============================] - 31s 40ms/step - loss: 1.4889 - accuracy: 0.4649\n",
            "Epoch 44/50\n",
            "781/781 [==============================] - 30s 38ms/step - loss: 1.4830 - accuracy: 0.4686\n",
            "Epoch 45/50\n",
            "781/781 [==============================] - 29s 37ms/step - loss: 1.4870 - accuracy: 0.4666\n",
            "Epoch 46/50\n",
            "781/781 [==============================] - 29s 37ms/step - loss: 1.4816 - accuracy: 0.4686\n",
            "Epoch 47/50\n",
            "781/781 [==============================] - 30s 38ms/step - loss: 1.4758 - accuracy: 0.4720\n",
            "Epoch 48/50\n",
            "781/781 [==============================] - 29s 37ms/step - loss: 1.4726 - accuracy: 0.4712\n",
            "Epoch 49/50\n",
            "781/781 [==============================] - 29s 38ms/step - loss: 1.4697 - accuracy: 0.4721\n",
            "Epoch 50/50\n",
            "781/781 [==============================] - 30s 38ms/step - loss: 1.4729 - accuracy: 0.4713\n"
          ]
        }
      ]
    },
    {
      "cell_type": "code",
      "source": [
        "loss, acc = model.evaluate(x_test, y_test, verbose = 1)"
      ],
      "metadata": {
        "colab": {
          "base_uri": "https://localhost:8080/"
        },
        "id": "28_l-RdpCBfp",
        "outputId": "1309879b-b42b-4e61-8239-e91bce42d22c"
      },
      "execution_count": 72,
      "outputs": [
        {
          "output_type": "stream",
          "name": "stdout",
          "text": [
            "313/313 [==============================] - 1s 3ms/step - loss: 1.3714 - accuracy: 0.5018\n"
          ]
        }
      ]
    },
    {
      "cell_type": "code",
      "source": [
        "print(\"Accuracy : \", acc)\n",
        "print(\"Loss : \", loss)"
      ],
      "metadata": {
        "colab": {
          "base_uri": "https://localhost:8080/"
        },
        "id": "klUMB7WVB_ek",
        "outputId": "8c9f3005-7c88-4828-b7c7-4d5607ef21a9"
      },
      "execution_count": 73,
      "outputs": [
        {
          "output_type": "stream",
          "name": "stdout",
          "text": [
            "Accuracy :  0.5856999754905701\n",
            "Loss :  1.1753597259521484\n"
          ]
        }
      ]
    },
    {
      "cell_type": "markdown",
      "source": [
        "Based on the results of accuracy and loss evaluation, it is concluded that the best model is a model with dropout regularization, hypermarameter optimizer adam with a learning rate of 0.001 and epoch 50. The use of augmented data does not affect the accuracy and loss values significantly."
      ],
      "metadata": {
        "id": "D9t9nXgGJLG_"
      }
    },
    {
      "cell_type": "code",
      "source": [],
      "metadata": {
        "id": "OisCZ-ikCLSf"
      },
      "execution_count": null,
      "outputs": []
    }
  ]
}